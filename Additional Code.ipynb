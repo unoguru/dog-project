{
 "cells": [
  {
   "cell_type": "code",
   "execution_count": 1,
   "metadata": {},
   "outputs": [],
   "source": [
    "import ntpath\n",
    "def folder_name(path, label):\n",
    "    head, tail = ntpath.split(path)\n",
    "    start = head.find(\".\")\n",
    "    name = head[start:]\n",
    "    \n",
    "    label = str(label)\n",
    "    if len(label) == 1:\n",
    "        folder = '00' + label + name\n",
    "    elif len(label) == 2:\n",
    "        folder = '0' + label + name\n",
    "    else:\n",
    "        folder = label + name\n",
    "    \n",
    "    \n",
    "    return folder"
   ]
  },
  {
   "cell_type": "code",
   "execution_count": 2,
   "metadata": {},
   "outputs": [
    {
     "data": {
      "text/plain": [
       "'c'"
      ]
     },
     "execution_count": 2,
     "metadata": {},
     "output_type": "execute_result"
    }
   ],
   "source": [
    "from keras.preprocessing.image import ImageDataGenerator, array_to_img, img_to_array, load_img\n",
    "import os\n",
    "\n",
    "datagen = ImageDataGenerator(\n",
    "        rotation_range=40,\n",
    "        width_shift_range=0.2,\n",
    "        height_shift_range=0.2,\n",
    "        shear_range=0.2,\n",
    "        zoom_range=0.2,\n",
    "        horizontal_flip=True,\n",
    "        fill_mode='nearest')\n",
    "\n",
    "\n",
    "x = 0\n",
    "while x < 7:\n",
    "    img = load_img(train_files[x])  # this is a PIL image\n",
    "    img_arr = img_to_array(img)  # this is a Numpy array\n",
    "    img_arr = img_arr.reshape((1,) + img_arr.shape)  # this is a 4D Numpy array\n",
    "    \n",
    "    # Creating proper directory names to store augmented images \n",
    "    fname = folder_name(train_files[x], np.argmax(train_targets[x]) + 1)\n",
    "    dir = 'preview\\\\' + fname\n",
    "    if not os.path.exists(dir):\n",
    "        os.makedirs(dir)\n",
    "\n",
    "    # the .flow() command below generates batches of randomly transformed images\n",
    "    # and saves the results to the `preview/` directory\n",
    "        \n",
    "    i = 0\n",
    "    for batch in datagen.flow(img_arr, batch_size=1,\n",
    "                              save_to_dir=dir, save_prefix='img', save_format='jpg'):\n",
    "        i += 1\n",
    "        if i >= 10:\n",
    "            break  # otherwise the generator would loop indefinitely\n",
    "\n",
    "    x += 1\n",
    "\n",
    "\n",
    "print('Images saved')"
   ]
  },
  {
   "cell_type": "code",
   "execution_count": null,
   "metadata": {},
   "outputs": [],
   "source": []
  }
 ],
 "metadata": {
  "kernelspec": {
   "display_name": "Python 3",
   "language": "python",
   "name": "python3"
  },
  "language_info": {
   "codemirror_mode": {
    "name": "ipython",
    "version": 3
   },
   "file_extension": ".py",
   "mimetype": "text/x-python",
   "name": "python",
   "nbconvert_exporter": "python",
   "pygments_lexer": "ipython3",
   "version": "3.6.3"
  }
 },
 "nbformat": 4,
 "nbformat_minor": 2
}
